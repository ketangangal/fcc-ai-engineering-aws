{
 "cells": [
  {
   "cell_type": "code",
   "execution_count": null,
   "id": "34c442ba-235e-4fe4-93f7-5c1b7b6242ad",
   "metadata": {},
   "outputs": [],
   "source": [
    "from IPython import display\n",
    "\n",
    "# File path\n",
    "fpath = \"multimodal-rag-langchain/data/\"\n",
    "fname = \"mypdf1.pdf\"\n",
    "\n",
    "display.IFrame(fpath+fname, width=600, height=600)"
   ]
  },
  {
   "cell_type": "code",
   "execution_count": null,
   "id": "0b6d1673-2ca8-4af0-8858-4fa885e58aed",
   "metadata": {},
   "outputs": [],
   "source": []
  }
 ],
 "metadata": {
  "kernelspec": {
   "display_name": "Python 3 (ipykernel)",
   "language": "python",
   "name": "python3"
  },
  "language_info": {
   "codemirror_mode": {
    "name": "ipython",
    "version": 3
   },
   "file_extension": ".py",
   "mimetype": "text/x-python",
   "name": "python",
   "nbconvert_exporter": "python",
   "pygments_lexer": "ipython3",
   "version": "3.10.14"
  }
 },
 "nbformat": 4,
 "nbformat_minor": 5
}
