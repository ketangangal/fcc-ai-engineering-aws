{
 "cells": [
  {
   "cell_type": "markdown",
   "id": "700bb0b6",
   "metadata": {},
   "source": [
    "## Setting up Libraries"
   ]
  },
  {
   "cell_type": "code",
   "execution_count": 1,
   "id": "ff0d2224",
   "metadata": {},
   "outputs": [],
   "source": [
    "import boto3\n",
    "import json\n",
    "import jsonlines\n",
    "import os\n",
    "import pprint\n",
    "import random\n",
    "import warnings\n",
    "from datasets import load_dataset\n",
    "\n",
    "warnings.filterwarnings('ignore')"
   ]
  },
  {
   "cell_type": "markdown",
   "id": "b0739e3d",
   "metadata": {},
   "source": [
    "## Preparing the Session and Making Configurations"
   ]
  },
  {
   "cell_type": "code",
   "execution_count": 2,
   "id": "e6a57ec6",
   "metadata": {},
   "outputs": [],
   "source": [
    "session = boto3.session.Session()\n",
    "region = session.region_name\n",
    "sts_client = boto3.client('sts')\n",
    "account_id = sts_client.get_caller_identity()[\"Account\"]\n",
    "s3_suffix = f\"{region}-{account_id}\"\n",
    "bucket_name = f\"my-bedrock-fine-tuning-custom-model-{s3_suffix}\"\n",
    "\n",
    "# AWS Services {S3, Bedrock, IAM} clients\n",
    "s3 = boto3.resource('s3')\n",
    "s3_client = boto3.client('s3')\n",
    "bedrock = boto3.client(service_name=\"bedrock\", region_name=region)\n",
    "bedrock_runtime = boto3.client(service_name=\"bedrock-runtime\", region_name=region)\n",
    "iam = boto3.client('iam', region_name=region)"
   ]
  },
  {
   "cell_type": "code",
   "execution_count": 3,
   "id": "629f8c26",
   "metadata": {},
   "outputs": [],
   "source": [
    "role_name = \"myAmazonBedrockFineTuningCustomRole\"\n",
    "s3_bedrock_finetuning_access_policy=\"myAmazonBedrockFineTuningCustomPolicy\"\n",
    "customization_role = f\"arn:aws:iam::{account_id}:role/{role_name}\""
   ]
  },
  {
   "cell_type": "code",
   "execution_count": 4,
   "id": "61e4e4f5",
   "metadata": {},
   "outputs": [],
   "source": [
    "s3bucket = s3_client.create_bucket(\n",
    "                                    Bucket=bucket_name,\n",
    "                                )"
   ]
  },
  {
   "cell_type": "code",
   "execution_count": 10,
   "id": "e2ca0e0e",
   "metadata": {},
   "outputs": [],
   "source": [
    "s3_bedrock_role = f\"\"\"{{\n",
    "    \"Version\": \"2012-10-17\",\n",
    "    \"Statement\": [\n",
    "        {{\n",
    "            \"Effect\": \"Allow\",\n",
    "            \"Principal\": {{\n",
    "                \"Service\": \"bedrock.amazonaws.com\"\n",
    "            }},\n",
    "            \"Action\": \"sts:AssumeRole\",\n",
    "            \"Condition\": {{\n",
    "                \"StringEquals\": {{\n",
    "                    \"aws:SourceAccount\": \"{account_id}\"\n",
    "                }},\n",
    "                \"ArnEquals\": {{\n",
    "                    \"aws:SourceArn\": \"arn:aws:bedrock:{region}:{account_id}:model-customization-job/*\"\n",
    "                }}\n",
    "            }}\n",
    "        }}\n",
    "    ]\n",
    "}}\n",
    "\"\"\""
   ]
  },
  {
   "cell_type": "code",
   "execution_count": 11,
   "id": "e96c7553",
   "metadata": {},
   "outputs": [
    {
     "name": "stdout",
     "output_type": "stream",
     "text": [
      "{'Role': {'Path': '/',\n",
      "          'RoleName': 'myAmazonBedrockFineTuningCustomRole',\n",
      "          'RoleId': 'AROAXMQUPTNEBW26SG2CH',\n",
      "          'Arn': 'arn:aws:iam::507922848584:role/myAmazonBedrockFineTuningCustomRole',\n",
      "          'CreateDate': datetime.datetime(2024, 10, 8, 16, 6, 8, tzinfo=tzutc()),\n",
      "          'AssumeRolePolicyDocument': {'Version': '2012-10-17',\n",
      "                                       'Statement': [{'Effect': 'Allow',\n",
      "                                                      'Principal': {'Service': 'bedrock.amazonaws.com'},\n",
      "                                                      'Action': 'sts:AssumeRole',\n",
      "                                                      'Condition': {'StringEquals': {'aws:SourceAccount': '507922848584'},\n",
      "                                                                    'ArnEquals': {'aws:SourceArn': 'arn:aws:bedrock:us-east-1:507922848584:model-customization-job/*'}}}]}},\n",
      " 'ResponseMetadata': {'RequestId': '836a9303-2f7b-448e-82ac-61eef0aaa92f',\n",
      "                      'HTTPStatusCode': 200,\n",
      "                      'HTTPHeaders': {'date': 'Tue, 08 Oct 2024 16:06:08 GMT',\n",
      "                                      'x-amzn-requestid': '836a9303-2f7b-448e-82ac-61eef0aaa92f',\n",
      "                                      'content-type': 'text/xml',\n",
      "                                      'content-length': '1786'},\n",
      "                      'RetryAttempts': 0}}\n"
     ]
    }
   ],
   "source": [
    "response = iam.create_role(\n",
    "    RoleName=role_name,\n",
    "    AssumeRolePolicyDocument=s3_bedrock_role,\n",
    "    Description=\"Role for Bedrock to access S3 for finetuning\",\n",
    ")\n",
    "role_arn = response[\"Role\"][\"Arn\"]\n",
    "pprint.pp(response)"
   ]
  },
  {
   "cell_type": "code",
   "execution_count": 12,
   "id": "802d366a",
   "metadata": {},
   "outputs": [],
   "source": [
    "s3_access_policy = f\"\"\"{{\n",
    "    \"Version\": \"2012-10-17\",\n",
    "    \"Statement\": [\n",
    "        {{\n",
    "            \"Effect\": \"Allow\",\n",
    "            \"Action\": [\n",
    "                \"s3:AbortMultipartUpload\",\n",
    "                \"s3:DeleteObject\",\n",
    "                \"s3:PutObject\",\n",
    "                \"s3:GetObject\",\n",
    "                \"s3:GetBucketAcl\",\n",
    "                \"s3:GetBucketNotification\",\n",
    "                \"s3:ListBucket\",\n",
    "                \"s3:PutBucketNotification\"\n",
    "            ],\n",
    "            \"Resource\": [\n",
    "                \"arn:aws:s3:::{bucket_name}\",\n",
    "                \"arn:aws:s3:::{bucket_name}/*\"\n",
    "            ]\n",
    "        }}\n",
    "    ]\n",
    "}}\"\"\"\n"
   ]
  },
  {
   "cell_type": "code",
   "execution_count": 13,
   "id": "cf403b81",
   "metadata": {},
   "outputs": [
    {
     "name": "stdout",
     "output_type": "stream",
     "text": [
      "{'Policy': {'PolicyName': 'myAmazonBedrockFineTuningCustomPolicy',\n",
      "            'PolicyId': 'ANPAXMQUPTNEOLLEBQ4TY',\n",
      "            'Arn': 'arn:aws:iam::507922848584:policy/myAmazonBedrockFineTuningCustomPolicy',\n",
      "            'Path': '/',\n",
      "            'DefaultVersionId': 'v1',\n",
      "            'AttachmentCount': 0,\n",
      "            'PermissionsBoundaryUsageCount': 0,\n",
      "            'IsAttachable': True,\n",
      "            'CreateDate': datetime.datetime(2024, 10, 8, 16, 6, 29, tzinfo=tzutc()),\n",
      "            'UpdateDate': datetime.datetime(2024, 10, 8, 16, 6, 29, tzinfo=tzutc())},\n",
      " 'ResponseMetadata': {'RequestId': '231d8c80-8198-478a-b99d-b1535d887336',\n",
      "                      'HTTPStatusCode': 200,\n",
      "                      'HTTPHeaders': {'date': 'Tue, 08 Oct 2024 16:06:28 GMT',\n",
      "                                      'x-amzn-requestid': '231d8c80-8198-478a-b99d-b1535d887336',\n",
      "                                      'content-type': 'text/xml',\n",
      "                                      'content-length': '809'},\n",
      "                      'RetryAttempts': 0}}\n"
     ]
    }
   ],
   "source": [
    "response = iam.create_policy(\n",
    "                                PolicyName=s3_bedrock_finetuning_access_policy,\n",
    "                                PolicyDocument=s3_access_policy,\n",
    "                            )\n",
    "policy_arn = response[\"Policy\"][\"Arn\"]\n",
    "pprint.pp(response)"
   ]
  },
  {
   "cell_type": "code",
   "execution_count": 14,
   "id": "6787432a",
   "metadata": {},
   "outputs": [
    {
     "data": {
      "text/plain": [
       "{'ResponseMetadata': {'RequestId': '2fd35ab8-83fb-48a9-b399-3f45d391ef53',\n",
       "  'HTTPStatusCode': 200,\n",
       "  'HTTPHeaders': {'date': 'Tue, 08 Oct 2024 16:06:31 GMT',\n",
       "   'x-amzn-requestid': '2fd35ab8-83fb-48a9-b399-3f45d391ef53',\n",
       "   'content-type': 'text/xml',\n",
       "   'content-length': '212'},\n",
       "  'RetryAttempts': 0}}"
      ]
     },
     "execution_count": 14,
     "metadata": {},
     "output_type": "execute_result"
    }
   ],
   "source": [
    "iam.attach_role_policy(\n",
    "                        RoleName=role_name,\n",
    "                        PolicyArn=policy_arn,\n",
    "                    )"
   ]
  },
  {
   "cell_type": "markdown",
   "id": "14bbe7cd",
   "metadata": {},
   "source": [
    "## Loading the GovReport Dataset"
   ]
  },
  {
   "cell_type": "code",
   "execution_count": 15,
   "id": "c3f4add4",
   "metadata": {},
   "outputs": [
    {
     "data": {
      "application/vnd.jupyter.widget-view+json": {
       "model_id": "b986cfdf050f4e7484d16670ed1530d0",
       "version_major": 2,
       "version_minor": 0
      },
      "text/plain": [
       "Downloading readme:   0%|          | 0.00/2.21k [00:00<?, ?B/s]"
      ]
     },
     "metadata": {},
     "output_type": "display_data"
    },
    {
     "data": {
      "application/vnd.jupyter.widget-view+json": {
       "model_id": "6060cf0965b44803ab135b0e6233d653",
       "version_major": 2,
       "version_minor": 0
      },
      "text/plain": [
       "Downloading data files:   0%|          | 0/3 [00:00<?, ?it/s]"
      ]
     },
     "metadata": {},
     "output_type": "display_data"
    },
    {
     "data": {
      "application/vnd.jupyter.widget-view+json": {
       "model_id": "2c99081eaf034b34b6620c6a883f27f5",
       "version_major": 2,
       "version_minor": 0
      },
      "text/plain": [
       "Downloading data:   0%|          | 0.00/228M [00:00<?, ?B/s]"
      ]
     },
     "metadata": {},
     "output_type": "display_data"
    },
    {
     "data": {
      "application/vnd.jupyter.widget-view+json": {
       "model_id": "256616090b374faf8e02f978909c84bf",
       "version_major": 2,
       "version_minor": 0
      },
      "text/plain": [
       "Downloading data:   0%|          | 0.00/229M [00:00<?, ?B/s]"
      ]
     },
     "metadata": {},
     "output_type": "display_data"
    },
    {
     "data": {
      "application/vnd.jupyter.widget-view+json": {
       "model_id": "2a41a4fa83ee4fd1b5c0f615e5ce6f85",
       "version_major": 2,
       "version_minor": 0
      },
      "text/plain": [
       "Downloading data:   0%|          | 0.00/26.1M [00:00<?, ?B/s]"
      ]
     },
     "metadata": {},
     "output_type": "display_data"
    },
    {
     "data": {
      "application/vnd.jupyter.widget-view+json": {
       "model_id": "8272308349c747e3bdeef3e3cb042886",
       "version_major": 2,
       "version_minor": 0
      },
      "text/plain": [
       "Downloading data:   0%|          | 0.00/24.0M [00:00<?, ?B/s]"
      ]
     },
     "metadata": {},
     "output_type": "display_data"
    },
    {
     "data": {
      "application/vnd.jupyter.widget-view+json": {
       "model_id": "e349475d869043fab7d1a73b17ca676e",
       "version_major": 2,
       "version_minor": 0
      },
      "text/plain": [
       "Extracting data files:   0%|          | 0/3 [00:00<?, ?it/s]"
      ]
     },
     "metadata": {},
     "output_type": "display_data"
    },
    {
     "data": {
      "application/vnd.jupyter.widget-view+json": {
       "model_id": "8297a8c59d534f1fb27d00a531576df5",
       "version_major": 2,
       "version_minor": 0
      },
      "text/plain": [
       "Generating train split:   0%|          | 0/17517 [00:00<?, ? examples/s]"
      ]
     },
     "metadata": {},
     "output_type": "display_data"
    },
    {
     "data": {
      "application/vnd.jupyter.widget-view+json": {
       "model_id": "be3f12cf62fc49969e8b853221c1eb04",
       "version_major": 2,
       "version_minor": 0
      },
      "text/plain": [
       "Generating validation split:   0%|          | 0/973 [00:00<?, ? examples/s]"
      ]
     },
     "metadata": {},
     "output_type": "display_data"
    },
    {
     "data": {
      "application/vnd.jupyter.widget-view+json": {
       "model_id": "7cfd0bd226654a64b585e6ee3d571cd3",
       "version_major": 2,
       "version_minor": 0
      },
      "text/plain": [
       "Generating test split:   0%|          | 0/973 [00:00<?, ? examples/s]"
      ]
     },
     "metadata": {},
     "output_type": "display_data"
    }
   ],
   "source": [
    "dataset = load_dataset(\"ccdv/govreport-summarization\")"
   ]
  },
  {
   "cell_type": "code",
   "execution_count": 16,
   "id": "4ec61287",
   "metadata": {},
   "outputs": [
    {
     "name": "stdout",
     "output_type": "stream",
     "text": [
      "DatasetDict({\n",
      "    train: Dataset({\n",
      "        features: ['report', 'summary'],\n",
      "        num_rows: 17517\n",
      "    })\n",
      "    validation: Dataset({\n",
      "        features: ['report', 'summary'],\n",
      "        num_rows: 973\n",
      "    })\n",
      "    test: Dataset({\n",
      "        features: ['report', 'summary'],\n",
      "        num_rows: 973\n",
      "    })\n",
      "})\n"
     ]
    }
   ],
   "source": [
    "print(dataset)"
   ]
  },
  {
   "cell_type": "code",
   "execution_count": 17,
   "id": "aadc088b",
   "metadata": {},
   "outputs": [],
   "source": [
    "instruction='''Below is an instruction which describes a task, paired with an input which will provide further context. Write a response that appropriately completes the request.\n",
    "\n",
    "instruction:\n",
    "\n",
    "Summarize the report provided below.\n",
    "\n",
    "input:\n",
    "\n",
    "'''"
   ]
  },
  {
   "cell_type": "code",
   "execution_count": 18,
   "id": "1eabb0f4",
   "metadata": {},
   "outputs": [],
   "source": [
    "datapoints_train=[]\n",
    "for data in dataset['train']:\n",
    "    temp_dict={}\n",
    "    temp_dict['prompt']=instruction+data['report']\n",
    "    temp_dict['completion']='response:\\n'+data['summary']\n",
    "    datapoints_train.append(temp_dict)"
   ]
  },
  {
   "cell_type": "code",
   "execution_count": 19,
   "id": "6611bc01",
   "metadata": {},
   "outputs": [
    {
     "name": "stdout",
     "output_type": "stream",
     "text": [
      "Below is an instruction which describes a task, paired with an input which will provide further context. Write a response that appropriately completes the request.\n",
      "\n",
      "instruction:\n",
      "\n",
      "Summarize the report provided below.\n",
      "\n",
      "input:\n",
      "\n",
      "In 1991, we reported that, historically, INS leadership had allowed INS’ organizational structure to become decentralized without adequate controls. Specifically, its regional structure had created geographical separation among INS programs and hampered resource allocation and consistent program implementation. The field structure designed to carry out INS’ enforcement functions was bifurcated between districts and Border Patrol sectors, resulting in uncoordinated, overlapping programs. In addition, only a single senior INS headquarters manager supervised INS’ 33 district directors and 21 Border Patrol chiefs. In 1994, with the appointment of a new Commissioner, INS implemented an organizational structure intended to remedy at least two problems. First, the headquarters operations office’s unrealistically large span of control resulting in uneven and poorly coordinated field performance. Second, the lack of focus on program planning resulting from the operations office’s preoccupation with matters that should have been handled by field managers. The Commissioner shifted some management authority to officials closer to field activities. While INS made some progress toward achieving its reorganization goals, its organizational structure is still in a state of flux and some problems persist. For example, in 1997 we reported that the responsibilities and authority of the Office of Field Operations and Office of Programs were unclear. We recommended, among other things, that the INS Commissioner provide written guidance on (1) the responsibilities and authorities of these two offices and (2) the appropriate coordination and communication methods between these two offices, and between the Office of Programs and field offices. Although INS has taken some steps to implement our 1997 recommendations, they have yet to be completed because, according to INS, these recommendations relate to INS restructuring that is currently under study. As previously mentioned, INS’ mission involves carrying out two primary functions—enforcing immigration laws and providing services or benefits to eligible legal immigrants. These functions often translate into competing priorities at the program level that need to be balanced for effective program implementation. All too often, the emphasis placed on one over the other results in ineffective enforcement or poor benefit delivery. An example of this inability to balance these priorities can be found in our September 2000 report on the processing of visas for specialty occupations, called H-1B visas. The performance appraisal process for staff that evaluates the merits of applications filed with INS (called adjudicators) focused mainly on the number of applications reviewed, not the quality of the review. INS rewarded those adjudicators who processed the greatest number of applications over those who processed fewer applications. Some adjudicators told us that because of pressure to adjudicate cases quickly, they did not routinely use investigations staff to look into potentially fraudulent applications because doing so would take more time and reduce the number of applications they could complete. INS investigators following up on approved applications found instances of fraud; for example, they found employers who created shell corporations and false credentials and documents for aliens ineligible for H-1B employment. We found other examples where the goal of providing timely service delivery has negatively impacted INS’ enforcement goal of providing benefits to only eligible aliens. In our May 2001 report on INS application processing, we stated that INS’ policy is to grant work authorization to applicants who file for adjustment of status to that of a permanent resident before it adjudicates their application. This policy is intended to prevent aliens from having to wait for INS to adjudicate their application before they can work. However, in fiscal year 2000 INS denied about 80,000 applicants for adjustment of status (about 14 percent of all the adjustment of status applications completed) and had to revoke their work authorization. Because these aliens had work authorization while waiting for their application to be processed, they could have developed a work history that may have facilitated their obtaining employment even after INS’ efforts to officially revoke their work authorization. A senior INS official stated that the policy to grant work authorization before the adjustment of status application is decided is intended to be fair to the majority of adjustment of status applicants who are approved. An investigation into INS’ initiative to process naturalization applications more quickly found the initiative to be fraught with quality and integrity problems resulting in ineligible applicants receiving citizenship. According to a Department of Justice Office of Inspector General (OIG) report on INS’ Citizenship USA initiative launched in 1995, INS made the timely completion of naturalization applications its guiding principle at the expense of accuracy and quality in determining eligibility. As a result of the problems found, INS instituted naturalization quality control procedures to enhance the integrity of the process. We are finding a similar situation in our ongoing review for this subcommittee of INS’ efforts to deter immigration benefit fraud. We will discuss this and other issues related to immigration benefit fraud in a report to be released later this year. Other researchers have also found that INS had difficulty in balancing its enforcement and service delivery priorities. For example, the Visa Waiver Program allows nationals of certain counties to enter the United States with just a passport. No visa is required. According to a Department of Justice OIG report, abuse of the program poses a threat to national security and increases illegal immigration. The report found that aliens used stolen passports from Visa Waiver countries to illegally enter the United States. In one case, the OIG found that 27 stolen Icelandic passports had been used to smuggle children into the United States.Although the passport numbers of the stolen Icelandic passports had been entered into a lookout database, INS airport inspectors were not entering the passport numbers of passengers arriving with Icelandic passports into the lookout database. INS officials told the OIG investigators that manually keying in these passport numbers into the system would take too long and would hamper INS’ ability to inspect all passengers from a flight within 45 minutes, as mandated by law. An INS contractor that evaluated INS’ immigration benefits process in 1999 found that INS needed to strengthen the integrity of the process. The study found that INS had no standard quality control program for ensuring that applications were processed consistently. Although some adjudicators believed the number of fraudulent applications submitted was significantly higher than the number they were detecting, they received little training in fraud detection. According to the report, some management and operations personnel indicated that performance evaluations in large part are based on the quantity of applications processed. The report concluded that whether employees receive incentives and rewards depends more on the quantity of applications processed rather than on fraud detection. Therefore, adjudicators had no incentives to actively search out fraud. As we reported in our applications processing report, despite these pressures to complete applications more quickly, INS’ backlog of applications increased to about 4 million applications by the end of fiscal year 2000, a four-fold increase since 1994. As of September 30, 2001 about 767,000 applicants out of almost 3 million with pending applications had been waiting at least 21 months for INS to process their application. In our 1997 management report, we found that poor communication was a problem, especially between headquarters and field units. For example, field and policy manuals were out of date and there was not one place that program staff could go for direction. Over one half of the employees we surveyed in preparing that report believed that INS had poor communications and that information was disseminated poorly. As noted earlier in our testimony, how INS’ Office of Programs and Office of Field Operations were to coordinate was still unclear. Our recent work shows that coordination and communication is still a problem. For example, although both the Border Patrol and INS’ Office of Investigations have anti-smuggling units that conduct alien smuggling investigations, these units operate through separate chains of command with different reporting structures. In May 2000, we reported that alien smuggling was a growing problem, and that the Border Patrol and Investigations anti-smuggling units operated autonomously, resulting in a lack of program coordination. Further, this lack of coordination sometimes led to different anti-smuggling units opening investigations on the same target. INS Investigations officials told us that the autonomy of the individual units and the lack of a single chain of command to manage INS’ anti-smuggling investigations were major obstacles to building a more effective anti-smuggling program. Communicating the necessary information to the appropriate individuals has also been a problem. In our H-1B report, we stated that adjudicators told us that they did not have easy access to case-specific information that would have helped them correctly decide whether an application should be approved or denied. For example, evidence of a fraudulent employer or falsified worker credentials either was not available to the adjudicator or could only be accessed through a time-consuming and complicated process. Consequently, a previously denied application could be resubmitted and approved by a different adjudicator. At the time of our review, INS officials told us that INS was in the process of upgrading the computer system that tracks H-1B applications, which could make more accurate and up to date information available on-line for adjudicators. Our work and the work of an INS contractor both found that INS did not have a structure in place to manage the information that adjudicators needed to make correct decisions. Information systems were not easily accessible to all adjudicators, so these systems were generally not queried as part of the adjudication process. INS had no single repository of information where adjudicators could find the most up to date information on such things as adjudication processes and legal and regulatory policies. In one case, the lack of communication and unclear policies and procedures had tragic consequences. In January 1999, police in Texas obtained a warrant for the arrest of Rafael Resendez-Ramirez, the “railway killer” who traveled around the United States by freight train and committed murders near railroad lines. In early 1999 police contacted INS Investigations staff in Houston Texas several times about placing a “border lookout” for Resendez-Ramirez in case he was apprehended at the border. According to a Department of Justice OIG report, none of the Investigations staff contacted by the police thought to inform the police about the existence of IDENT, INS’ automated fingerprint identification system. The Investigations staff also failed to enter a lookout in IDENT in case Resendez-Ramirez was apprehended trying to cross the border. On June 1, 1999, the Border Patrol apprehended Resendez-Ramirez trying to cross illegally and had him processed through the IDENT system. Because no border lookout had been placed, however, the Border Patrol voluntarily returned him to Mexico in accordance with standard Border Patrol practices. He subsequently returned illegally to the United States and committed four more murders before he was captured. INS’ Houston investigations staff provided OIG investigators with various reasons as to why they did not mention IDENT or its lookout capability to police or enter a lookout in IDENT, including the following: They were unfamiliar with IDENT and how it worked. They never received any IDENT training. They were unaware IDENT had a lookout feature. They thought IDENT was a system primarily for the Border Patrol to use. The OIG concluded that the lack of knowledge about IDENT was largely the result of broader problems in the way INS implemented and monitored IDENT. INS failed to (1) (1) ensure that components outside of the Border Patrol, such as Investigations, understood IDENT policies, particularly the lookout policy and (2) provide adequate IDENT training for all INS staff. INS and the FBI are currently working on integrating IDENT with the FBI’s automated fingerprint system to improve the quality and accuracy of criminal identification so that such mistakes can be averted in the future. Effective communication has also been a problem between INS and local communities. In August 2001, we reported that since 1994 as INS’ Border Patrol has increased enforcement efforts in certain locations as part of its strategy to deter illegal entry along the southwest border, illegal alien traffic shifted to other locations. Officials from some border communities told us that they were caught by surprise by the increase in the number of illegal aliens apprehended in their communities. INS has recognized the need to improve communications with the public regarding its strategy and its potential implications and has increased its outreach efforts. INS has had long-standing difficulty developing and fielding information systems to support its program operations. In 1990, we reported that INS managers and field officials did not have adequate, reliable, and timely information to effectively carry out the Service’s mission. We also reported that INS had not conducted a comprehensive agency-wide information needs assessment. As a result, program and management data were kept in a loose collection of automated systems as well as a number of ad-hoc labor-intensive manual systems. Effectively using information technology continues to remain a challenge for INS. In August 2000, we reported that INS did not have a “blueprint” to guide the development of its information systems. The absence of such a plan increases the risk that the information systems in which hundreds of millions of dollars are invested each year will not be well integrated or compatible and will not support mission needs. In December 2000, we reported that INS had limited capability to effectively manage its planned and ongoing information technology investments. While INS has some important information technology management capabilities in place, it has to do considerable work to fully implement mature and effective processes. The Department of Justice agreed with our recommendation that INS develop and submit a plan to Justice for implementing investment management process improvements. INS is in the process of developing this plan. The lack of adequate information technology systems has significantly impacted INS’ ability to perform its core missions. As we reported in our applications processing report, INS headquarters and field staff cited automation problems as the number one factor affecting INS’ ability to process applications in a timely manner to reduce backlogs. INS has no national case management system for applications filed at its 33 district offices. Most of these offices process applications manually. As a result, these offices cannot determine the number of pending cases, identify problem areas or bottlenecks, establish processing priorities, deploy staff based on workload, and ensure cases are processed in the order received. Due to the lack of any automated system, staff spend considerable time responding to applicants’ inquires on the status of their case, which takes time away from application processing. Existing INS systems used to process applications do not provide accurate and reliable data. In our applications processing report we stated that the system INS Service Centers use to process some applications frequently fails to operate and does not always update data to INS’ mainframe computer as it should. This lack of automation has resulted in INS expending considerable time and effort to obtain the data it needs. In our applications processing report we also stated that lack of reliable data was the primary reason INS undertook a time-consuming and costly hand-count of all pending applications in September 2000. INS undertook the hand-count to get an accurate count of pending applications hoping to obtain an unqualified opinion on its fiscal year 2000 financial statements. According to INS officials, the cost to complete this hand-count was high in terms of lost production and staff time. INS suspended nearly all case processing for 2-3 weeks. Due to the lack of accurate data in its computer systems, INS will have to do another hand-count of all pending applications at the end of fiscal year 2001 if it hopes to obtain an unqualified opinion on its financial statement. As a result of this lack of accurate data, INS has also approved more visas than the Congress has allowed. According to an INS contractor study, INS’ system that tracks these visas was not designed to keep a running total of the number of visas issued and to compare it against the annual limit to ensure that only the allowable number is approved. Consequently, in fiscal year 1999, INS approved approximately 137,000 to 138,000 H-1B visas, well over the 115,000 limit. Program management issues at INS have caused continuing concern. Our work indicates that INS needs to improve its program management in several fundamental areas, including having efficient processes and clear policies and procedures, providing adequate staff training, and aligning its workforce with its workload. The INS contractor study on immigration benefits processing found that INS’ processes were inefficient. For example, INS staff spends considerable time re-entering the same data into various INS computer systems. INS did not consistently adjudicate applications because the procedures used to process applications varied by office, most field offices allowed adjudicators to review cases using minimal guidelines, and standard quality controls were lacking. The study made numerous recommendations on how to make the processes more efficient and improve quality control. We stated in our applications processing report that INS was developing a strategic plan to reengineer applications processing. INS will make decisions regarding the contractor’s recommendations after completing two related strategic plans - the plan to reengineer applications processing and the information technology strategic plan. Both are in the early planning stages. INS estimated that it will take 5 years or more to develop and implement the reengineered processes and implement a service-wide automated system to process applications. Adequate staff training is also a critical aspect of program management. As noted earlier in our testimony, an INS contractor study found that INS adjudicators received little training in fraud detection. According to a November 2000 INS report prepared as part of INS’ Government Performance and Results Act reporting requirements, the INS workforce is not well supported in terms of training. Advanced training classes have been cut back or delayed. According to the report, because of the growing workforce and these training cutbacks, INS will have a larger portion of its workforce that is relatively inexperienced and inadequately trained for its work.\n"
     ]
    }
   ],
   "source": [
    "print(datapoints_train[4]['prompt'])"
   ]
  },
  {
   "cell_type": "code",
   "execution_count": 20,
   "id": "096490a2",
   "metadata": {},
   "outputs": [],
   "source": [
    "datapoints_valid=[]\n",
    "for data in dataset['validation']:\n",
    "    temp_dict={}\n",
    "    temp_dict['prompt']=instruction+data['report']\n",
    "    temp_dict['completion']='response:\\n\\n'+data['summary']\n",
    "    datapoints_valid.append(temp_dict)\n",
    "\n",
    "datapoints_test=[]\n",
    "for data in dataset['test']:\n",
    "    temp_dict={}\n",
    "    temp_dict['prompt']=instruction+data['report']\n",
    "    temp_dict['completion']='response:\\n\\n'+data['summary']\n",
    "    datapoints_test.append(temp_dict)"
   ]
  },
  {
   "cell_type": "code",
   "execution_count": 21,
   "id": "532b2ce3",
   "metadata": {},
   "outputs": [],
   "source": [
    "def data_transform(data_points,num_data,max_data_length):\n",
    "    lines=[]\n",
    "    for data in data_points:\n",
    "        if len(data['prompt']+data['completion'])<=max_data_length:\n",
    "                lines.append(data)\n",
    "    random.shuffle(lines)\n",
    "    lines=lines[:num_data]\n",
    "    return lines"
   ]
  },
  {
   "cell_type": "code",
   "execution_count": 33,
   "id": "8d12331a",
   "metadata": {},
   "outputs": [],
   "source": [
    "# def jsonl_converter(dataset,file_name):\n",
    "#     print(file_name)\n",
    "#     with jsonlines.open(file_name, 'w') as writer:\n",
    "#         for line in dataset:\n",
    "#             writer.write(line)\n",
    "            \n",
    "def jsonl_converter(dataset, file_name):\n",
    "    # Ensure the directory exists\n",
    "    directory = os.path.dirname(file_name)\n",
    "    \n",
    "    if directory and not os.path.exists(directory):\n",
    "        os.makedirs(directory)  # Create the directory if it doesn't exist\n",
    "    \n",
    "    print(f\"Writing to file: {file_name}\")\n",
    "    \n",
    "    try:\n",
    "        with jsonlines.open(file_name, 'w') as writer:\n",
    "            for line in dataset:\n",
    "                writer.write(line)\n",
    "        print(f\"Successfully wrote data to {file_name}\")\n",
    "    except Exception as e:\n",
    "        print(f\"An error occurred: {e}\")"
   ]
  },
  {
   "cell_type": "code",
   "execution_count": 34,
   "id": "18fb529b",
   "metadata": {},
   "outputs": [],
   "source": [
    "train=data_transform(datapoints_train,5000,10000)\n",
    "validation=data_transform(datapoints_valid,999,10000)\n",
    "test=data_transform(datapoints_test,10,10000)"
   ]
  },
  {
   "cell_type": "markdown",
   "id": "91d550e6",
   "metadata": {},
   "source": [
    "## Using Local Directories for Fine-tuning Datasets"
   ]
  },
  {
   "cell_type": "code",
   "execution_count": 36,
   "id": "92dfdf89",
   "metadata": {},
   "outputs": [
    {
     "name": "stdout",
     "output_type": "stream",
     "text": [
      "/Users/debnsuma/AWS-AI-Engineering/code/fcc-ai-engineering-aws/fine-tuning/myfine-tuning-datasets\n"
     ]
    }
   ],
   "source": [
    "dataset_folder=\"myfine-tuning-datasets\"\n",
    "train_file_name=\"mytrain-govreport.jsonl\"\n",
    "validation_file_name=\"myvalidation-govreport.jsonl\"\n",
    "test_file_name=\"mytest-govreport.jsonl\"\n",
    "!mkdir myfine-tuning-datasets\n",
    "abs_path=os.path.abspath(dataset_folder) \n",
    "print(abs_path)"
   ]
  },
  {
   "cell_type": "code",
   "execution_count": 37,
   "id": "e1aa1545",
   "metadata": {},
   "outputs": [
    {
     "name": "stdout",
     "output_type": "stream",
     "text": [
      "Writing to file: /Users/debnsuma/AWS-AI-Engineering/code/fcc-ai-engineering-aws/fine-tuning/myfine-tuning-datasets/mytrain-govreport.jsonl\n",
      "Successfully wrote data to /Users/debnsuma/AWS-AI-Engineering/code/fcc-ai-engineering-aws/fine-tuning/myfine-tuning-datasets/mytrain-govreport.jsonl\n",
      "Writing to file: /Users/debnsuma/AWS-AI-Engineering/code/fcc-ai-engineering-aws/fine-tuning/myfine-tuning-datasets/myvalidation-govreport.jsonl\n",
      "Successfully wrote data to /Users/debnsuma/AWS-AI-Engineering/code/fcc-ai-engineering-aws/fine-tuning/myfine-tuning-datasets/myvalidation-govreport.jsonl\n",
      "Writing to file: /Users/debnsuma/AWS-AI-Engineering/code/fcc-ai-engineering-aws/fine-tuning/myfine-tuning-datasets/mytest-govreport.jsonl\n",
      "Successfully wrote data to /Users/debnsuma/AWS-AI-Engineering/code/fcc-ai-engineering-aws/fine-tuning/myfine-tuning-datasets/mytest-govreport.jsonl\n"
     ]
    }
   ],
   "source": [
    "jsonl_converter(train,f'{abs_path}/{train_file_name}')\n",
    "jsonl_converter(validation,f'{abs_path}/{validation_file_name}')\n",
    "jsonl_converter(test,f'{abs_path}/{test_file_name}')"
   ]
  },
  {
   "cell_type": "code",
   "execution_count": 38,
   "id": "eb57bd75",
   "metadata": {},
   "outputs": [],
   "source": [
    "s3_client.upload_file(f'{abs_path}/{train_file_name}', bucket_name, f'fine-tuning-datasets/train/{train_file_name}')\n",
    "s3_client.upload_file(f'{abs_path}/{validation_file_name}', bucket_name, f'fine-tuning-datasets/validation/{validation_file_name}')\n",
    "s3_client.upload_file(f'{abs_path}/{test_file_name}', bucket_name, f'fine-tuning-datasets/test/{test_file_name}')\n",
    "\n",
    "s3_train_uri=f's3://{bucket_name}/fine-tuning-datasets/train/{train_file_name}'\n",
    "s3_validation_uri=f's3://{bucket_name}/fine-tuning-datasets/validation/{validation_file_name}'\n",
    "s3_test_uri=f's3://{bucket_name}/fine-tuning-datasets/test/{test_file_name}'"
   ]
  },
  {
   "cell_type": "markdown",
   "id": "d85a822f",
   "metadata": {},
   "source": [
    "## Initialize Bedrock Session for Fine-Tuning"
   ]
  },
  {
   "cell_type": "code",
   "execution_count": 39,
   "id": "5eb089cc",
   "metadata": {},
   "outputs": [],
   "source": [
    "session = boto3.session.Session()\n",
    "region = 'us-east-1'\n",
    "sts_client = boto3.client('sts')\n",
    "s3_client = boto3.client('s3')\n",
    "aws_account_id = sts_client.get_caller_identity()[\"Account\"]\n",
    "\n",
    "# Bedrock client\n",
    "bedrock = boto3.client(service_name=\"bedrock\", region_name=region)\n",
    "bedrock_runtime = boto3.client(service_name=\"bedrock-runtime\", region_name=region)"
   ]
  },
  {
   "cell_type": "code",
   "execution_count": 41,
   "id": "fc77510b",
   "metadata": {},
   "outputs": [],
   "source": [
    "test_file_name = \"mytest-govreport.jsonl\"\n",
    "data_folder = \"myfine-tuning-datasets\""
   ]
  },
  {
   "cell_type": "markdown",
   "id": "aafcffa4",
   "metadata": {},
   "source": [
    "## Creating the Fine-tuning Job"
   ]
  },
  {
   "cell_type": "code",
   "execution_count": 42,
   "id": "e14e329d",
   "metadata": {},
   "outputs": [],
   "source": [
    "from datetime import datetime\n",
    "timestamp = datetime.now().strftime(\"%Y-%m-%d-%H-%M-%S\")\n",
    "base_model_id = \"meta.llama2-13b-v1:0:4k\"\n",
    "customization_type = \"FINE_TUNING\"\n",
    "customization_role = role_arn\n",
    "customization_job_name = f\"llama2-finetune-sm-test-model-{timestamp}\"\n",
    "custom_model_name = f\"llama2-finetune-{timestamp}\""
   ]
  },
  {
   "cell_type": "code",
   "execution_count": 43,
   "id": "b1a1188b",
   "metadata": {},
   "outputs": [],
   "source": [
    "hyper_parameters = {\n",
    "        \"epochCount\": \"2\",\n",
    "        \"batchSize\": \"1\",\n",
    "        \"learningRate\": \"0.00005\",\n",
    "    }\n",
    "\n",
    "training_data_config = {\"s3Uri\": s3_train_uri}\n",
    "\n",
    "validation_data_config = {\n",
    "        \"validators\": [{\n",
    "            \"s3Uri\": s3_validation_uri\n",
    "        }]\n",
    "    }\n",
    "\n",
    "output_data_config = {\"s3Uri\": f's3://{bucket_name}/outputs/output-{custom_model_name}'}"
   ]
  },
  {
   "cell_type": "code",
   "execution_count": 44,
   "id": "e3033248",
   "metadata": {},
   "outputs": [
    {
     "data": {
      "text/plain": [
       "{'ResponseMetadata': {'RequestId': 'ff8004e2-05d3-46f9-b564-4f5339919f30',\n",
       "  'HTTPStatusCode': 201,\n",
       "  'HTTPHeaders': {'date': 'Tue, 08 Oct 2024 16:24:01 GMT',\n",
       "   'content-type': 'application/json',\n",
       "   'content-length': '112',\n",
       "   'connection': 'keep-alive',\n",
       "   'x-amzn-requestid': 'ff8004e2-05d3-46f9-b564-4f5339919f30'},\n",
       "  'RetryAttempts': 0},\n",
       " 'jobArn': 'arn:aws:bedrock:us-east-1:507922848584:model-customization-job/meta.llama2-13b-v1:0:4k/e9u3zrgtr5ho'}"
      ]
     },
     "execution_count": 44,
     "metadata": {},
     "output_type": "execute_result"
    }
   ],
   "source": [
    "bedrock.create_model_customization_job(\n",
    "    customizationType=customization_type,\n",
    "    jobName=customization_job_name,\n",
    "    customModelName=custom_model_name,\n",
    "    roleArn=customization_role,\n",
    "    baseModelIdentifier=base_model_id,\n",
    "    hyperParameters=hyper_parameters,\n",
    "    trainingDataConfig=training_data_config,\n",
    "    validationDataConfig=validation_data_config,\n",
    "    outputDataConfig=output_data_config\n",
    ")"
   ]
  },
  {
   "cell_type": "markdown",
   "id": "799651f8",
   "metadata": {},
   "source": [
    "### Waiting until customization job is completed"
   ]
  },
  {
   "cell_type": "code",
   "execution_count": 45,
   "id": "95dfe2ef",
   "metadata": {},
   "outputs": [
    {
     "name": "stdout",
     "output_type": "stream",
     "text": [
      "InProgress\n",
      "InProgress\n",
      "InProgress\n",
      "InProgress\n",
      "InProgress\n",
      "InProgress\n",
      "InProgress\n",
      "InProgress\n",
      "InProgress\n",
      "InProgress\n",
      "InProgress\n",
      "InProgress\n",
      "InProgress\n",
      "InProgress\n",
      "InProgress\n",
      "InProgress\n",
      "InProgress\n",
      "InProgress\n",
      "InProgress\n",
      "InProgress\n",
      "InProgress\n",
      "InProgress\n",
      "InProgress\n",
      "InProgress\n",
      "InProgress\n",
      "InProgress\n",
      "InProgress\n",
      "InProgress\n",
      "InProgress\n",
      "InProgress\n",
      "InProgress\n",
      "InProgress\n",
      "InProgress\n",
      "InProgress\n",
      "InProgress\n",
      "InProgress\n",
      "InProgress\n",
      "InProgress\n",
      "InProgress\n",
      "InProgress\n",
      "InProgress\n",
      "InProgress\n",
      "InProgress\n",
      "InProgress\n",
      "Completed\n"
     ]
    }
   ],
   "source": [
    "import time \n",
    "\n",
    "# check model customization status\n",
    "status = bedrock.list_model_customization_jobs(\n",
    "    nameContains=customization_job_name\n",
    ")[\"modelCustomizationJobSummaries\"][0][\"status\"]\n",
    "while status == 'InProgress':\n",
    "    time.sleep(50)\n",
    "    status = bedrock.list_model_customization_jobs(\n",
    "        nameContains=customization_job_name\n",
    "    )[\"modelCustomizationJobSummaries\"][0][\"status\"]\n",
    "    print(status)"
   ]
  },
  {
   "cell_type": "markdown",
   "id": "ae294cc6",
   "metadata": {},
   "source": [
    "## Select Customization Job"
   ]
  },
  {
   "cell_type": "code",
   "execution_count": 46,
   "id": "2d1e7a41",
   "metadata": {},
   "outputs": [
    {
     "data": {
      "text/plain": [
       "{'jobArn': 'arn:aws:bedrock:us-east-1:507922848584:model-customization-job/meta.llama2-13b-v1:0:4k/e9u3zrgtr5ho',\n",
       " 'baseModelArn': 'arn:aws:bedrock:us-east-1::foundation-model/meta.llama2-13b-v1:0:4k',\n",
       " 'jobName': 'llama2-finetune-sm-test-model-2024-10-08-12-23-49',\n",
       " 'status': 'Completed',\n",
       " 'lastModifiedTime': datetime.datetime(2024, 10, 8, 17, 2, 51, 443000, tzinfo=tzutc()),\n",
       " 'creationTime': datetime.datetime(2024, 10, 8, 16, 24, 0, 914000, tzinfo=tzutc()),\n",
       " 'endTime': datetime.datetime(2024, 10, 8, 17, 2, 51, 79000, tzinfo=tzutc()),\n",
       " 'customModelArn': 'arn:aws:bedrock:us-east-1:507922848584:custom-model/meta.llama2-13b-v1:0:4k/9llpk3c7n6gb',\n",
       " 'customModelName': 'llama2-finetune-2024-10-08-12-23-49',\n",
       " 'customizationType': 'FINE_TUNING'}"
      ]
     },
     "execution_count": 46,
     "metadata": {},
     "output_type": "execute_result"
    }
   ],
   "source": [
    "bedrock.list_model_customization_jobs(\n",
    "        nameContains=customization_job_name\n",
    "    )[\"modelCustomizationJobSummaries\"][0]"
   ]
  },
  {
   "cell_type": "code",
   "execution_count": 48,
   "id": "d5012cec",
   "metadata": {},
   "outputs": [
    {
     "data": {
      "application/vnd.jupyter.widget-view+json": {
       "model_id": "74f30908817e4fa39d8b503662313160",
       "version_major": 2,
       "version_minor": 0
      },
      "text/plain": [
       "Dropdown(description='Select a model', layout=Layout(width='max-content'), options=('llama2-finetune-2024-10-0…"
      ]
     },
     "metadata": {},
     "output_type": "display_data"
    }
   ],
   "source": [
    "from ipywidgets import Dropdown\n",
    "\n",
    "customization_jobs = {}\n",
    "dropdown_vals = []\n",
    "for cj in bedrock.list_model_customization_jobs()[\"modelCustomizationJobSummaries\"]:\n",
    "    if cj[\"status\"] == \"Completed\":\n",
    "        customization_jobs[cj[\"customModelName\"]] = cj\n",
    "        dropdown_vals.append(cj[\"customModelName\"] + \" - creationTime: \" + cj[\"creationTime\"].strftime(\"%Y-%m-%d %H:%M:%S\"))\n",
    "\n",
    "# display the model-ids in a dropdown to select a model for inference.\n",
    "model_dropdown = Dropdown(\n",
    "    options=dropdown_vals,\n",
    "    value=dropdown_vals[0],\n",
    "    description=\"Select a model\",\n",
    "    style={\"description_width\": \"initial\"},\n",
    "    layout={\"width\": \"max-content\"},\n",
    ")\n",
    "display(model_dropdown)"
   ]
  },
  {
   "cell_type": "code",
   "execution_count": 49,
   "id": "c243620c",
   "metadata": {},
   "outputs": [
    {
     "data": {
      "text/plain": [
       "('llama2-finetune-2024-10-08-12-23-49',\n",
       " 'arn:aws:bedrock:us-east-1:507922848584:custom-model/meta.llama2-13b-v1:0:4k/9llpk3c7n6gb')"
      ]
     },
     "execution_count": 49,
     "metadata": {},
     "output_type": "execute_result"
    }
   ],
   "source": [
    "selected_model = model_dropdown.value.split(\" - creationTime: \")[0]\n",
    "custom_model_name, custom_model_arn = selected_model, customization_jobs[selected_model][\"customModelArn\"]\n",
    "custom_model_name, custom_model_arn"
   ]
  },
  {
   "cell_type": "markdown",
   "id": "40c0991c",
   "metadata": {},
   "source": [
    "## Creating Provisioned Throughput"
   ]
  },
  {
   "cell_type": "code",
   "execution_count": 51,
   "id": "36795dae",
   "metadata": {},
   "outputs": [],
   "source": [
    "provisioned_model_id = bedrock.create_provisioned_model_throughput(\n",
    "     modelUnits=1,\n",
    "     provisionedModelName=custom_model_name, \n",
    "     modelId=custom_model_arn\n",
    "    )['provisionedModelArn']    "
   ]
  },
  {
   "cell_type": "code",
   "execution_count": null,
   "id": "148d6d62",
   "metadata": {},
   "outputs": [],
   "source": [
    "file_path_for_testing = f'{data_folder}/{test_file_name}'\n",
    "with open(file_path_for_testing) as f:\n",
    "    lines = f.read().splitlines()\n",
    "\n",
    "test_prompt = json.loads(lines[0])['prompt']\n",
    "reference_summary = json.loads(lines[0])['completion']\n"
   ]
  },
  {
   "cell_type": "code",
   "execution_count": null,
   "id": "29064b1d",
   "metadata": {},
   "outputs": [],
   "source": [
    "body = json.dumps({\n",
    "    \"prompt\": test_prompt,\n",
    "    \"max_gen_len\": 300,\n",
    "    \"temperature\": 0.5,\n",
    "    \"top_p\": 0.5,\n",
    "})\n",
    "\n",
    "modelId = provisioned_model_id\n",
    "accept = 'application/json'\n",
    "contentType = 'application/json'\n",
    "\n",
    "response = bedrock_runtime.invoke_model(body=body, modelId=modelId, accept=accept, contentType=contentType) \n",
    "\n",
    "response_body = json.loads(response.get('body').read())\n",
    "print(response_body)"
   ]
  },
  {
   "cell_type": "markdown",
   "id": "d62e0bc3",
   "metadata": {},
   "source": [
    "## Clean Up"
   ]
  },
  {
   "cell_type": "code",
   "execution_count": null,
   "id": "aab8fa41",
   "metadata": {},
   "outputs": [],
   "source": [
    "bedrock.delete_provisioned_model_throughput(provisionedModelId=provisioned_model_id)"
   ]
  },
  {
   "cell_type": "code",
   "execution_count": null,
   "id": "b56b0b85",
   "metadata": {},
   "outputs": [],
   "source": [
    "objects = s3_client.list_objects(Bucket=bucket_name)  \n",
    "if 'Contents' in objects:\n",
    "    for obj in objects['Contents']:\n",
    "        s3_client.delete_object(Bucket=bucket_name, Key=obj['Key']) \n",
    "s3_client.delete_bucket(Bucket=bucket_name)"
   ]
  },
  {
   "cell_type": "code",
   "execution_count": null,
   "id": "ae785068",
   "metadata": {},
   "outputs": [],
   "source": [
    "iam.detach_role_policy(RoleName=role_name, PolicyArn=policy_arn)\n",
    "iam.delete_role(RoleName=role_name)"
   ]
  }
 ],
 "metadata": {
  "kernelspec": {
   "display_name": "llm",
   "language": "python",
   "name": "python3"
  },
  "language_info": {
   "codemirror_mode": {
    "name": "ipython",
    "version": 3
   },
   "file_extension": ".py",
   "mimetype": "text/x-python",
   "name": "python",
   "nbconvert_exporter": "python",
   "pygments_lexer": "ipython3",
   "version": "3.11.10"
  }
 },
 "nbformat": 4,
 "nbformat_minor": 5
}
